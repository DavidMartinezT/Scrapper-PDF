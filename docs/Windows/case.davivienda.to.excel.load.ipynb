{
 "cells": [
  {
   "cell_type": "markdown",
   "metadata": {},
   "source": [
    "# Cargar"
   ]
  },
  {
   "cell_type": "code",
   "execution_count": 1,
   "metadata": {},
   "outputs": [],
   "source": [
    "#FILE='CIS_Microsoft_Intune_for_Windows_10_Benchmark_v2.0.0-1'\n",
    "#FILE='CIS_Microsoft_Intune_for_Windows_10_Benchmark_v2.0.0'\n",
    "FILE='CIS_Microsoft_Windows_Server_2008_(non-R2)_Benchmark_v3.3.1_ARCHIVE'\n",
    "#FILE='CIS_Microsoft_Windows_Server_2012_(non-R2)_Benchmark_v3.0.0_FINAL_UPDATE'\n",
    "#FILE='CIS_Microsoft_Windows_Server_2016_Benchmark_v2.0.0'\n",
    "#FILE='CIS_Microsoft_Windows_Server_2016_STIG_Benchmark_v2.0.0' "
   ]
  },
  {
   "cell_type": "code",
   "execution_count": 2,
   "metadata": {},
   "outputs": [],
   "source": [
    "import pandas as pd\n",
    "import numpy as np\n",
    "import re\n",
    "from deep_translator import GoogleTranslator"
   ]
  },
  {
   "cell_type": "code",
   "execution_count": 3,
   "metadata": {},
   "outputs": [],
   "source": [
    "df=pd.read_excel('../../output/Windows/clean/'+FILE+'_clean.xlsx')"
   ]
  },
  {
   "cell_type": "code",
   "execution_count": 4,
   "metadata": {},
   "outputs": [],
   "source": [
    "df.fillna('',inplace=True)"
   ]
  },
  {
   "cell_type": "markdown",
   "metadata": {},
   "source": [
    "## Traducción"
   ]
  },
  {
   "cell_type": "markdown",
   "metadata": {},
   "source": [
    "Para la traducción de los textos se utiliza el paquete `GoogleTranslator` de `deep_translator`. La traducción a español puede tomar un par de minutos, además el paquete solo permite traducir 5.000 caracteres peticiones, por lo que se debe asegurar que ningún texto supere este límite."
   ]
  },
  {
   "cell_type": "code",
   "execution_count": 8,
   "metadata": {},
   "outputs": [
    {
     "data": {
      "text/plain": [
       "\"\\ndf['Parametro']=df['Parametro'].apply(lambda x: GoogleTranslator(source='auto', target='es').translate(x))\\ndf['Descripción']=df['Descripción'].apply(lambda x: GoogleTranslator(source='auto', target='es').translate(x))\\ndf['Procedimiento de implementación']=df['Procedimiento de implementación'].apply(lambda x: GoogleTranslator(source='auto', target='es').translate(x))\\ndf['Procedimiento de verificación']=df['Procedimiento de verificación'].apply(lambda x: GoogleTranslator(source='auto', target='es').translate(x))\\n\\n\""
      ]
     },
     "execution_count": 8,
     "metadata": {},
     "output_type": "execute_result"
    }
   ],
   "source": [
    "# UNCOMMENT TO TRANSLATE TO SPANISH\n",
    "\"\"\"\n",
    "df['Parametro']=df['Parametro'].apply(lambda x: GoogleTranslator(source='auto', target='es').translate(x))\n",
    "df['Descripción']=df['Descripción'].apply(lambda x: GoogleTranslator(source='auto', target='es').translate(x))\n",
    "df['Procedimiento de implementación']=df['Procedimiento de implementación'].apply(lambda x: GoogleTranslator(source='auto', target='es').translate(x))\n",
    "df['Procedimiento de verificación']=df['Procedimiento de verificación'].apply(lambda x: GoogleTranslator(source='auto', target='es').translate(x))\n",
    "\n",
    "\"\"\""
   ]
  },
  {
   "cell_type": "markdown",
   "metadata": {},
   "source": [
    "### Unir configuraciones"
   ]
  },
  {
   "cell_type": "markdown",
   "metadata": {},
   "source": [
    "Por último se procede a unir las configuraciones en cada columna, el **Procedimiento de implementación** se une con la configuración de **Implementación** y el **Procedimiento de verificación** se une con la configuración de **Verificación** excepto en el caso de que la configuración de **Verificación** sea vacía, en ese caso se une con la configuración de **Implementación**.\n"
   ]
  },
  {
   "cell_type": "code",
   "execution_count": 5,
   "metadata": {},
   "outputs": [],
   "source": [
    "df['Procedimiento de implementación']=df['Procedimiento de implementación'] + '\\n' + df['Config implementación']"
   ]
  },
  {
   "cell_type": "code",
   "execution_count": 6,
   "metadata": {},
   "outputs": [],
   "source": [
    "df['Procedimiento de verificación']=df[['Procedimiento de verificación', 'Config verificación', 'Config implementación']].apply(\n",
    "    lambda x:\n",
    "        x['Procedimiento de verificación'] + '\\n' + x['Config implementación'] if x['Config verificación'] == ''\n",
    "        else\n",
    "        x['Procedimiento de verificación'] + '\\n' + x['Config verificación']\n",
    "    , axis=1)"
   ]
  },
  {
   "cell_type": "code",
   "execution_count": 7,
   "metadata": {},
   "outputs": [],
   "source": [
    "df.drop(columns=['Config implementación', 'Config verificación'], inplace=True)"
   ]
  },
  {
   "cell_type": "markdown",
   "metadata": {},
   "source": [
    "### Guardar en Excel en diferentes hojas"
   ]
  },
  {
   "cell_type": "markdown",
   "metadata": {},
   "source": [
    "Se guarda el excel en diferentes hojas, cada hoja corresponde a una seccion de controles al segundo nivel, esto es 1.1. 1.2. 1.3. etc."
   ]
  },
  {
   "cell_type": "code",
   "execution_count": 8,
   "metadata": {},
   "outputs": [],
   "source": [
    "#Extraer secciones finales\n",
    "df['Sección']=df['IDCIS'].apply(lambda x: re.findall(r'(\\d{1,2}\\.\\d{1,2})', x)[0])"
   ]
  },
  {
   "cell_type": "code",
   "execution_count": 9,
   "metadata": {},
   "outputs": [
    {
     "name": "stderr",
     "output_type": "stream",
     "text": [
      "/tmp/ipykernel_16385/534308970.py:6: SettingWithCopyWarning: \n",
      "A value is trying to be set on a copy of a slice from a DataFrame\n",
      "\n",
      "See the caveats in the documentation: https://pandas.pydata.org/pandas-docs/stable/user_guide/indexing.html#returning-a-view-versus-a-copy\n",
      "  df_seccion.drop(columns=['Sección'], inplace=True)\n",
      "/tmp/ipykernel_16385/534308970.py:6: SettingWithCopyWarning: \n",
      "A value is trying to be set on a copy of a slice from a DataFrame\n",
      "\n",
      "See the caveats in the documentation: https://pandas.pydata.org/pandas-docs/stable/user_guide/indexing.html#returning-a-view-versus-a-copy\n",
      "  df_seccion.drop(columns=['Sección'], inplace=True)\n",
      "/tmp/ipykernel_16385/534308970.py:6: SettingWithCopyWarning: \n",
      "A value is trying to be set on a copy of a slice from a DataFrame\n",
      "\n",
      "See the caveats in the documentation: https://pandas.pydata.org/pandas-docs/stable/user_guide/indexing.html#returning-a-view-versus-a-copy\n",
      "  df_seccion.drop(columns=['Sección'], inplace=True)\n",
      "/tmp/ipykernel_16385/534308970.py:6: SettingWithCopyWarning: \n",
      "A value is trying to be set on a copy of a slice from a DataFrame\n",
      "\n",
      "See the caveats in the documentation: https://pandas.pydata.org/pandas-docs/stable/user_guide/indexing.html#returning-a-view-versus-a-copy\n",
      "  df_seccion.drop(columns=['Sección'], inplace=True)\n",
      "/tmp/ipykernel_16385/534308970.py:6: SettingWithCopyWarning: \n",
      "A value is trying to be set on a copy of a slice from a DataFrame\n",
      "\n",
      "See the caveats in the documentation: https://pandas.pydata.org/pandas-docs/stable/user_guide/indexing.html#returning-a-view-versus-a-copy\n",
      "  df_seccion.drop(columns=['Sección'], inplace=True)\n",
      "/tmp/ipykernel_16385/534308970.py:6: SettingWithCopyWarning: \n",
      "A value is trying to be set on a copy of a slice from a DataFrame\n",
      "\n",
      "See the caveats in the documentation: https://pandas.pydata.org/pandas-docs/stable/user_guide/indexing.html#returning-a-view-versus-a-copy\n",
      "  df_seccion.drop(columns=['Sección'], inplace=True)\n",
      "/tmp/ipykernel_16385/534308970.py:6: SettingWithCopyWarning: \n",
      "A value is trying to be set on a copy of a slice from a DataFrame\n",
      "\n",
      "See the caveats in the documentation: https://pandas.pydata.org/pandas-docs/stable/user_guide/indexing.html#returning-a-view-versus-a-copy\n",
      "  df_seccion.drop(columns=['Sección'], inplace=True)\n",
      "/tmp/ipykernel_16385/534308970.py:6: SettingWithCopyWarning: \n",
      "A value is trying to be set on a copy of a slice from a DataFrame\n",
      "\n",
      "See the caveats in the documentation: https://pandas.pydata.org/pandas-docs/stable/user_guide/indexing.html#returning-a-view-versus-a-copy\n",
      "  df_seccion.drop(columns=['Sección'], inplace=True)\n",
      "/tmp/ipykernel_16385/534308970.py:6: SettingWithCopyWarning: \n",
      "A value is trying to be set on a copy of a slice from a DataFrame\n",
      "\n",
      "See the caveats in the documentation: https://pandas.pydata.org/pandas-docs/stable/user_guide/indexing.html#returning-a-view-versus-a-copy\n",
      "  df_seccion.drop(columns=['Sección'], inplace=True)\n",
      "/tmp/ipykernel_16385/534308970.py:6: SettingWithCopyWarning: \n",
      "A value is trying to be set on a copy of a slice from a DataFrame\n",
      "\n",
      "See the caveats in the documentation: https://pandas.pydata.org/pandas-docs/stable/user_guide/indexing.html#returning-a-view-versus-a-copy\n",
      "  df_seccion.drop(columns=['Sección'], inplace=True)\n",
      "/tmp/ipykernel_16385/534308970.py:6: SettingWithCopyWarning: \n",
      "A value is trying to be set on a copy of a slice from a DataFrame\n",
      "\n",
      "See the caveats in the documentation: https://pandas.pydata.org/pandas-docs/stable/user_guide/indexing.html#returning-a-view-versus-a-copy\n",
      "  df_seccion.drop(columns=['Sección'], inplace=True)\n",
      "/tmp/ipykernel_16385/534308970.py:6: SettingWithCopyWarning: \n",
      "A value is trying to be set on a copy of a slice from a DataFrame\n",
      "\n",
      "See the caveats in the documentation: https://pandas.pydata.org/pandas-docs/stable/user_guide/indexing.html#returning-a-view-versus-a-copy\n",
      "  df_seccion.drop(columns=['Sección'], inplace=True)\n",
      "/tmp/ipykernel_16385/534308970.py:6: SettingWithCopyWarning: \n",
      "A value is trying to be set on a copy of a slice from a DataFrame\n",
      "\n",
      "See the caveats in the documentation: https://pandas.pydata.org/pandas-docs/stable/user_guide/indexing.html#returning-a-view-versus-a-copy\n",
      "  df_seccion.drop(columns=['Sección'], inplace=True)\n",
      "/tmp/ipykernel_16385/534308970.py:6: SettingWithCopyWarning: \n",
      "A value is trying to be set on a copy of a slice from a DataFrame\n",
      "\n",
      "See the caveats in the documentation: https://pandas.pydata.org/pandas-docs/stable/user_guide/indexing.html#returning-a-view-versus-a-copy\n",
      "  df_seccion.drop(columns=['Sección'], inplace=True)\n",
      "/tmp/ipykernel_16385/534308970.py:6: SettingWithCopyWarning: \n",
      "A value is trying to be set on a copy of a slice from a DataFrame\n",
      "\n",
      "See the caveats in the documentation: https://pandas.pydata.org/pandas-docs/stable/user_guide/indexing.html#returning-a-view-versus-a-copy\n",
      "  df_seccion.drop(columns=['Sección'], inplace=True)\n",
      "/tmp/ipykernel_16385/534308970.py:6: SettingWithCopyWarning: \n",
      "A value is trying to be set on a copy of a slice from a DataFrame\n",
      "\n",
      "See the caveats in the documentation: https://pandas.pydata.org/pandas-docs/stable/user_guide/indexing.html#returning-a-view-versus-a-copy\n",
      "  df_seccion.drop(columns=['Sección'], inplace=True)\n",
      "/tmp/ipykernel_16385/534308970.py:6: SettingWithCopyWarning: \n",
      "A value is trying to be set on a copy of a slice from a DataFrame\n",
      "\n",
      "See the caveats in the documentation: https://pandas.pydata.org/pandas-docs/stable/user_guide/indexing.html#returning-a-view-versus-a-copy\n",
      "  df_seccion.drop(columns=['Sección'], inplace=True)\n",
      "/tmp/ipykernel_16385/534308970.py:6: SettingWithCopyWarning: \n",
      "A value is trying to be set on a copy of a slice from a DataFrame\n",
      "\n",
      "See the caveats in the documentation: https://pandas.pydata.org/pandas-docs/stable/user_guide/indexing.html#returning-a-view-versus-a-copy\n",
      "  df_seccion.drop(columns=['Sección'], inplace=True)\n",
      "/tmp/ipykernel_16385/534308970.py:6: SettingWithCopyWarning: \n",
      "A value is trying to be set on a copy of a slice from a DataFrame\n",
      "\n",
      "See the caveats in the documentation: https://pandas.pydata.org/pandas-docs/stable/user_guide/indexing.html#returning-a-view-versus-a-copy\n",
      "  df_seccion.drop(columns=['Sección'], inplace=True)\n",
      "/tmp/ipykernel_16385/534308970.py:6: SettingWithCopyWarning: \n",
      "A value is trying to be set on a copy of a slice from a DataFrame\n",
      "\n",
      "See the caveats in the documentation: https://pandas.pydata.org/pandas-docs/stable/user_guide/indexing.html#returning-a-view-versus-a-copy\n",
      "  df_seccion.drop(columns=['Sección'], inplace=True)\n",
      "/tmp/ipykernel_16385/534308970.py:6: SettingWithCopyWarning: \n",
      "A value is trying to be set on a copy of a slice from a DataFrame\n",
      "\n",
      "See the caveats in the documentation: https://pandas.pydata.org/pandas-docs/stable/user_guide/indexing.html#returning-a-view-versus-a-copy\n",
      "  df_seccion.drop(columns=['Sección'], inplace=True)\n",
      "/tmp/ipykernel_16385/534308970.py:6: SettingWithCopyWarning: \n",
      "A value is trying to be set on a copy of a slice from a DataFrame\n",
      "\n",
      "See the caveats in the documentation: https://pandas.pydata.org/pandas-docs/stable/user_guide/indexing.html#returning-a-view-versus-a-copy\n",
      "  df_seccion.drop(columns=['Sección'], inplace=True)\n",
      "/tmp/ipykernel_16385/534308970.py:6: SettingWithCopyWarning: \n",
      "A value is trying to be set on a copy of a slice from a DataFrame\n",
      "\n",
      "See the caveats in the documentation: https://pandas.pydata.org/pandas-docs/stable/user_guide/indexing.html#returning-a-view-versus-a-copy\n",
      "  df_seccion.drop(columns=['Sección'], inplace=True)\n",
      "/tmp/ipykernel_16385/534308970.py:6: SettingWithCopyWarning: \n",
      "A value is trying to be set on a copy of a slice from a DataFrame\n",
      "\n",
      "See the caveats in the documentation: https://pandas.pydata.org/pandas-docs/stable/user_guide/indexing.html#returning-a-view-versus-a-copy\n",
      "  df_seccion.drop(columns=['Sección'], inplace=True)\n",
      "/tmp/ipykernel_16385/534308970.py:6: SettingWithCopyWarning: \n",
      "A value is trying to be set on a copy of a slice from a DataFrame\n",
      "\n",
      "See the caveats in the documentation: https://pandas.pydata.org/pandas-docs/stable/user_guide/indexing.html#returning-a-view-versus-a-copy\n",
      "  df_seccion.drop(columns=['Sección'], inplace=True)\n",
      "/tmp/ipykernel_16385/534308970.py:6: SettingWithCopyWarning: \n",
      "A value is trying to be set on a copy of a slice from a DataFrame\n",
      "\n",
      "See the caveats in the documentation: https://pandas.pydata.org/pandas-docs/stable/user_guide/indexing.html#returning-a-view-versus-a-copy\n",
      "  df_seccion.drop(columns=['Sección'], inplace=True)\n",
      "/tmp/ipykernel_16385/534308970.py:6: SettingWithCopyWarning: \n",
      "A value is trying to be set on a copy of a slice from a DataFrame\n",
      "\n",
      "See the caveats in the documentation: https://pandas.pydata.org/pandas-docs/stable/user_guide/indexing.html#returning-a-view-versus-a-copy\n",
      "  df_seccion.drop(columns=['Sección'], inplace=True)\n",
      "/tmp/ipykernel_16385/534308970.py:6: SettingWithCopyWarning: \n",
      "A value is trying to be set on a copy of a slice from a DataFrame\n",
      "\n",
      "See the caveats in the documentation: https://pandas.pydata.org/pandas-docs/stable/user_guide/indexing.html#returning-a-view-versus-a-copy\n",
      "  df_seccion.drop(columns=['Sección'], inplace=True)\n"
     ]
    }
   ],
   "source": [
    "column_width = 50\n",
    "\n",
    "with pd.ExcelWriter('../../output/Windows/'+FILE+'_es'+'.xlsx', engine='openpyxl') as writer:\n",
    "    for i in df['Sección'].unique():\n",
    "        df_seccion=df[df['Sección']==i]\n",
    "        df_seccion.drop(columns=['Sección'], inplace=True)\n",
    "        df_seccion.to_excel(writer, index=False, sheet_name= 'Sección '+i)\n",
    "\n",
    "        # Access the XlsxWriter workbook and worksheet objects\n",
    "        workbook  = writer.book\n",
    "        worksheet = writer.sheets['Sección '+i]\n",
    "\n",
    "        # Set the column width for each column\n",
    "        for i, column in enumerate(df_seccion.columns):\n",
    "            column_letter = chr(ord('A') + i)\n",
    "            worksheet.column_dimensions[column_letter].width = column_width"
   ]
  }
 ],
 "metadata": {
  "kernelspec": {
   "display_name": ".venv",
   "language": "python",
   "name": "python3"
  },
  "language_info": {
   "codemirror_mode": {
    "name": "ipython",
    "version": 3
   },
   "file_extension": ".py",
   "mimetype": "text/x-python",
   "name": "python",
   "nbconvert_exporter": "python",
   "pygments_lexer": "ipython3",
   "version": "3.11.4"
  }
 },
 "nbformat": 4,
 "nbformat_minor": 2
}
