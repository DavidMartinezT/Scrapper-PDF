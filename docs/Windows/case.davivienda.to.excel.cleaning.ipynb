{
 "cells": [
  {
   "cell_type": "markdown",
   "metadata": {},
   "source": [
    "# Limpieza de datos"
   ]
  },
  {
   "cell_type": "code",
   "execution_count": 1,
   "metadata": {},
   "outputs": [],
   "source": [
    "import pandas as pd\n",
    "import re   "
   ]
  },
  {
   "cell_type": "code",
   "execution_count": 2,
   "metadata": {},
   "outputs": [],
   "source": [
    "#FILE='CIS_Microsoft_Intune_for_Windows_10_Benchmark_v2.0.0-1'\n",
    "#FILE='CIS_Microsoft_Intune_for_Windows_10_Benchmark_v2.0.0'\n",
    "FILE='CIS_Microsoft_Windows_Server_2008_(non-R2)_Benchmark_v3.3.1_ARCHIVE'\n",
    "#FILE='CIS_Microsoft_Windows_Server_2012_(non-R2)_Benchmark_v3.0.0_FINAL_UPDATE'\n",
    "#FILE='CIS_Microsoft_Windows_Server_2016_Benchmark_v2.0.0'\n",
    "#FILE='CIS_Microsoft_Windows_Server_2016_STIG_Benchmark_v2.0.0' "
   ]
  },
  {
   "cell_type": "code",
   "execution_count": 3,
   "metadata": {},
   "outputs": [],
   "source": [
    "df=pd.read_excel('../../output/Windows/extracted/'+FILE+'_extracted.xlsx')"
   ]
  },
  {
   "cell_type": "code",
   "execution_count": 4,
   "metadata": {},
   "outputs": [
    {
     "data": {
      "text/html": [
       "<div>\n",
       "<style scoped>\n",
       "    .dataframe tbody tr th:only-of-type {\n",
       "        vertical-align: middle;\n",
       "    }\n",
       "\n",
       "    .dataframe tbody tr th {\n",
       "        vertical-align: top;\n",
       "    }\n",
       "\n",
       "    .dataframe thead th {\n",
       "        text-align: right;\n",
       "    }\n",
       "</style>\n",
       "<table border=\"1\" class=\"dataframe\">\n",
       "  <thead>\n",
       "    <tr style=\"text-align: right;\">\n",
       "      <th></th>\n",
       "      <th>IDCIS</th>\n",
       "      <th>Level</th>\n",
       "      <th>Title</th>\n",
       "      <th>Description</th>\n",
       "      <th>Audit</th>\n",
       "      <th>Remediation</th>\n",
       "    </tr>\n",
       "  </thead>\n",
       "  <tbody>\n",
       "    <tr>\n",
       "      <th>0</th>\n",
       "      <td>1.1.1</td>\n",
       "      <td>(L1)</td>\n",
       "      <td>Ensure 'Enforce password history' is set to '...</td>\n",
       "      <td>This policy setting determines the number of r...</td>\n",
       "      <td>Navigate to the UI Path articulated in the Rem...</td>\n",
       "      <td>To establish the recommended configuration via...</td>\n",
       "    </tr>\n",
       "    <tr>\n",
       "      <th>1</th>\n",
       "      <td>1.1.2</td>\n",
       "      <td>(L1)</td>\n",
       "      <td>Ensure 'Maximum password age' is set to '365 ...</td>\n",
       "      <td>This policy setting defines how long a user ca...</td>\n",
       "      <td>Navigate to the UI Path articulated in the Rem...</td>\n",
       "      <td>To establish the recommended configuration via...</td>\n",
       "    </tr>\n",
       "    <tr>\n",
       "      <th>2</th>\n",
       "      <td>1.1.3</td>\n",
       "      <td>(L1)</td>\n",
       "      <td>Ensure 'Minimum password age' is set to '1 or...</td>\n",
       "      <td>This policy setting determines the number of d...</td>\n",
       "      <td>Navigate to the UI Path articulated in the Rem...</td>\n",
       "      <td>To establish the recommended configuration via...</td>\n",
       "    </tr>\n",
       "    <tr>\n",
       "      <th>3</th>\n",
       "      <td>1.1.4</td>\n",
       "      <td>(L1)</td>\n",
       "      <td>Ensure 'Minimum password length' is set to '1...</td>\n",
       "      <td>This policy setting determines the least numbe...</td>\n",
       "      <td>Navigate to the UI Path articulated in the Rem...</td>\n",
       "      <td>To establish the recommended configuration via...</td>\n",
       "    </tr>\n",
       "    <tr>\n",
       "      <th>4</th>\n",
       "      <td>1.1.5</td>\n",
       "      <td>(L1)</td>\n",
       "      <td>Ensure 'Password must meet complexity require...</td>\n",
       "      <td>This policy setting checks all new passwords t...</td>\n",
       "      <td>Navigate to the UI Path articulated in the Rem...</td>\n",
       "      <td>To establish the recommended configuration via...</td>\n",
       "    </tr>\n",
       "    <tr>\n",
       "      <th>...</th>\n",
       "      <td>...</td>\n",
       "      <td>...</td>\n",
       "      <td>...</td>\n",
       "      <td>...</td>\n",
       "      <td>...</td>\n",
       "      <td>...</td>\n",
       "    </tr>\n",
       "    <tr>\n",
       "      <th>312</th>\n",
       "      <td>19.7.4.1</td>\n",
       "      <td>(L1)</td>\n",
       "      <td>Ensure 'Do not preserve zone information in f...</td>\n",
       "      <td>This policy setting allows you to manage wheth...</td>\n",
       "      <td>Navigate to the UI Path articulated in the Rem...</td>\n",
       "      <td>To establish the recommended configuration via...</td>\n",
       "    </tr>\n",
       "    <tr>\n",
       "      <th>313</th>\n",
       "      <td>19.7.4.2</td>\n",
       "      <td>(L1)</td>\n",
       "      <td>Ensure 'Notify antivirus programs when openin...</td>\n",
       "      <td>This policy setting manages the behavior for n...</td>\n",
       "      <td>Navigate to the UI Path articulated in the Rem...</td>\n",
       "      <td>To establish the recommended configuration via...</td>\n",
       "    </tr>\n",
       "    <tr>\n",
       "      <th>314</th>\n",
       "      <td>19.7.28.1</td>\n",
       "      <td>(L1)</td>\n",
       "      <td>Ensure 'Prevent users from sharing files with...</td>\n",
       "      <td>This policy setting determines whether users c...</td>\n",
       "      <td>Navigate to the UI Path articulated in the Rem...</td>\n",
       "      <td>To establish the recommended configuration via...</td>\n",
       "    </tr>\n",
       "    <tr>\n",
       "      <th>315</th>\n",
       "      <td>19.7.43.1</td>\n",
       "      <td>(L1)</td>\n",
       "      <td>Ensure 'Always install with elevated privileg...</td>\n",
       "      <td>This setting controls whether or not Windows I...</td>\n",
       "      <td>Navigate to the UI Path articulated in the Rem...</td>\n",
       "      <td>To establish the recommended configuration via...</td>\n",
       "    </tr>\n",
       "    <tr>\n",
       "      <th>316</th>\n",
       "      <td>19.7.47.2.1</td>\n",
       "      <td>(L2)</td>\n",
       "      <td>Ensure 'Prevent Codec Download' is set to \\n'...</td>\n",
       "      <td>This setting controls whether Windows Media Pl...</td>\n",
       "      <td>Navigate to the UI Path articulated in the Rem...</td>\n",
       "      <td>To establish the recommended configuration via...</td>\n",
       "    </tr>\n",
       "  </tbody>\n",
       "</table>\n",
       "<p>317 rows × 6 columns</p>\n",
       "</div>"
      ],
      "text/plain": [
       "           IDCIS Level                                              Title  \\\n",
       "0          1.1.1  (L1)   Ensure 'Enforce password history' is set to '...   \n",
       "1          1.1.2  (L1)   Ensure 'Maximum password age' is set to '365 ...   \n",
       "2          1.1.3  (L1)   Ensure 'Minimum password age' is set to '1 or...   \n",
       "3          1.1.4  (L1)   Ensure 'Minimum password length' is set to '1...   \n",
       "4          1.1.5  (L1)   Ensure 'Password must meet complexity require...   \n",
       "..           ...   ...                                                ...   \n",
       "312     19.7.4.1  (L1)   Ensure 'Do not preserve zone information in f...   \n",
       "313     19.7.4.2  (L1)   Ensure 'Notify antivirus programs when openin...   \n",
       "314    19.7.28.1  (L1)   Ensure 'Prevent users from sharing files with...   \n",
       "315    19.7.43.1  (L1)   Ensure 'Always install with elevated privileg...   \n",
       "316  19.7.47.2.1  (L2)   Ensure 'Prevent Codec Download' is set to \\n'...   \n",
       "\n",
       "                                           Description  \\\n",
       "0    This policy setting determines the number of r...   \n",
       "1    This policy setting defines how long a user ca...   \n",
       "2    This policy setting determines the number of d...   \n",
       "3    This policy setting determines the least numbe...   \n",
       "4    This policy setting checks all new passwords t...   \n",
       "..                                                 ...   \n",
       "312  This policy setting allows you to manage wheth...   \n",
       "313  This policy setting manages the behavior for n...   \n",
       "314  This policy setting determines whether users c...   \n",
       "315  This setting controls whether or not Windows I...   \n",
       "316  This setting controls whether Windows Media Pl...   \n",
       "\n",
       "                                                 Audit  \\\n",
       "0    Navigate to the UI Path articulated in the Rem...   \n",
       "1    Navigate to the UI Path articulated in the Rem...   \n",
       "2    Navigate to the UI Path articulated in the Rem...   \n",
       "3    Navigate to the UI Path articulated in the Rem...   \n",
       "4    Navigate to the UI Path articulated in the Rem...   \n",
       "..                                                 ...   \n",
       "312  Navigate to the UI Path articulated in the Rem...   \n",
       "313  Navigate to the UI Path articulated in the Rem...   \n",
       "314  Navigate to the UI Path articulated in the Rem...   \n",
       "315  Navigate to the UI Path articulated in the Rem...   \n",
       "316  Navigate to the UI Path articulated in the Rem...   \n",
       "\n",
       "                                           Remediation  \n",
       "0    To establish the recommended configuration via...  \n",
       "1    To establish the recommended configuration via...  \n",
       "2    To establish the recommended configuration via...  \n",
       "3    To establish the recommended configuration via...  \n",
       "4    To establish the recommended configuration via...  \n",
       "..                                                 ...  \n",
       "312  To establish the recommended configuration via...  \n",
       "313  To establish the recommended configuration via...  \n",
       "314  To establish the recommended configuration via...  \n",
       "315  To establish the recommended configuration via...  \n",
       "316  To establish the recommended configuration via...  \n",
       "\n",
       "[317 rows x 6 columns]"
      ]
     },
     "execution_count": 4,
     "metadata": {},
     "output_type": "execute_result"
    }
   ],
   "source": [
    "df"
   ]
  },
  {
   "cell_type": "markdown",
   "metadata": {},
   "source": [
    "A continuación se realiza la limpieza a cada una de las columnas para ello se consideran eliminar caracteres especiales como espacions en blanco, saltos de linea, tabulaciones, etc. Eliminar cadenas de caracteres que no aportan información relevante para el análisis, y además "
   ]
  },
  {
   "cell_type": "code",
   "execution_count": 6,
   "metadata": {},
   "outputs": [
    {
     "data": {
      "text/plain": [
       "\" Ensure 'Add workstations to domain' is set to \\n'Administrators' (DC only) (Automated) \\n\""
      ]
     },
     "execution_count": 6,
     "metadata": {},
     "output_type": "execute_result"
    }
   ],
   "source": [
    "df['Title'][13]"
   ]
  },
  {
   "cell_type": "markdown",
   "metadata": {},
   "source": [
    "### Title"
   ]
  },
  {
   "cell_type": "code",
   "execution_count": 5,
   "metadata": {},
   "outputs": [],
   "source": [
    "df['Title']=df['Title'].str.replace('(Automated)','')\n",
    "df['Title']=df['Title'].str.strip()"
   ]
  },
  {
   "cell_type": "markdown",
   "metadata": {},
   "source": [
    "### Nueva columna MS/DC"
   ]
  },
  {
   "cell_type": "code",
   "execution_count": 6,
   "metadata": {},
   "outputs": [],
   "source": [
    "PATTERN_EXTRACT_ADD=re.compile(r'\\((MS only|DC only)\\)',re.DOTALL)\n",
    "df['MS/DC']=df['Title'].apply(\n",
    "    lambda x: \n",
    "        PATTERN_EXTRACT_ADD.findall(x)[0] if len(PATTERN_EXTRACT_ADD.findall(x))>0 else 'None'\n",
    ")"
   ]
  },
  {
   "cell_type": "code",
   "execution_count": 7,
   "metadata": {},
   "outputs": [],
   "source": [
    "df['Title']=df['Title'].str.replace('(MS only)','')\n",
    "df['Title']=df['Title'].str.replace('(DC only)','')"
   ]
  },
  {
   "cell_type": "markdown",
   "metadata": {},
   "source": [
    "### Audit"
   ]
  },
  {
   "cell_type": "code",
   "execution_count": 8,
   "metadata": {},
   "outputs": [],
   "source": [
    "df['Audit']=df['Audit'].apply(lambda x: re.compile(r'Page \\d+', re.DOTALL).sub('',x))\n",
    "df['Audit']=df['Audit'].str.strip()"
   ]
  },
  {
   "cell_type": "markdown",
   "metadata": {},
   "source": [
    "### Remediation"
   ]
  },
  {
   "cell_type": "code",
   "execution_count": 9,
   "metadata": {},
   "outputs": [],
   "source": [
    "PATTERN_REMEDIATION= re.compile(r'(.*?)(\\nNote|$)', re.DOTALL)"
   ]
  },
  {
   "cell_type": "code",
   "execution_count": 10,
   "metadata": {},
   "outputs": [],
   "source": [
    "df['Remediation']=df['Remediation'].apply(lambda x: PATTERN_REMEDIATION.findall(x)[0][0])\n",
    "df['Remediation']=df['Remediation'].apply(lambda x: re.compile(r'Page \\d+', re.DOTALL).sub('',x))\n",
    "df['Remediation']=df['Remediation'].str.strip()"
   ]
  },
  {
   "cell_type": "markdown",
   "metadata": {},
   "source": [
    "#### Extraer Recommended state"
   ]
  },
  {
   "cell_type": "markdown",
   "metadata": {},
   "source": [
    "Dentro de la columna de **description** se encuentra el estado recomendado para cada una de los controles, este debe ir en la columna de **Procedimiento de implementación**,\n",
    "por lo que se extrae en una nueva columna que se nombrara **State**.\n"
   ]
  },
  {
   "cell_type": "code",
   "execution_count": 11,
   "metadata": {},
   "outputs": [],
   "source": [
    "PATTERN_STATE=re.compile(r'(\\nThe recommended .*?|$)(Note|Important|$)', re.DOTALL)"
   ]
  },
  {
   "cell_type": "code",
   "execution_count": 12,
   "metadata": {},
   "outputs": [],
   "source": [
    "df['State']=df['Description'].apply(lambda x: PATTERN_STATE.search(x).group(1))\n",
    "df['State']=df['State'].apply(lambda x: re.compile(r'Page \\d+', re.DOTALL).sub('',x))\n",
    "df['State']=df['State'].str.strip()"
   ]
  },
  {
   "cell_type": "markdown",
   "metadata": {},
   "source": [
    "### Description"
   ]
  },
  {
   "cell_type": "markdown",
   "metadata": {},
   "source": [
    "Una vez se ha extraido se limita la descripción hasta antes de la sección de estado recomendo o en algunos casos cuando empiezan las notas adicionales de la descripción"
   ]
  },
  {
   "cell_type": "code",
   "execution_count": 13,
   "metadata": {},
   "outputs": [],
   "source": [
    "PATTERN_DESCRIPTION=re.compile(r'(.*?)(\\nThe recommended|Note|$)', re.DOTALL)"
   ]
  },
  {
   "cell_type": "code",
   "execution_count": 14,
   "metadata": {},
   "outputs": [],
   "source": [
    "df['Description']=df['Description'].apply(lambda x: re.compile(r'Page \\d+', re.DOTALL).sub('',x))\n",
    "df['Description']=df['Description'].apply(lambda x: PATTERN_DESCRIPTION.search(x).group(1))\n",
    "df['Description']=df['Description'].str.strip()"
   ]
  },
  {
   "cell_type": "code",
   "execution_count": 15,
   "metadata": {},
   "outputs": [],
   "source": [
    "DF=df"
   ]
  },
  {
   "cell_type": "markdown",
   "metadata": {},
   "source": [
    "# Dataframe final"
   ]
  },
  {
   "cell_type": "code",
   "execution_count": 16,
   "metadata": {},
   "outputs": [],
   "source": [
    "DF_final=pd.DataFrame(columns=[\"IDCIS\", \"Parametro\", \"MS/DS\", \"Descripción\", \"Procedimiento de implementación\", \"Procedimiento de verificación\", \"Config implementación\", \"Config verificación\"])"
   ]
  },
  {
   "cell_type": "code",
   "execution_count": 17,
   "metadata": {},
   "outputs": [],
   "source": [
    "DF_final['IDCIS']=DF['IDCIS']\n",
    "DF_final['Parametro']=DF['Title']\n",
    "DF_final['MS/DS']=DF['MS/DC']\n",
    "DF_final['Descripción']=DF['Description']"
   ]
  },
  {
   "cell_type": "markdown",
   "metadata": {},
   "source": [
    "## Dividir zonas sin traducción"
   ]
  },
  {
   "cell_type": "markdown",
   "metadata": {},
   "source": [
    "Debido a que tanto implementación como configuración contienen secciones de configuración que no desean ser traducidas se extraen cada una de estas secciones y se almacenan en columnas separadas, para despues unirlas una vez se haya realizado la traducción."
   ]
  },
  {
   "cell_type": "code",
   "execution_count": 18,
   "metadata": {},
   "outputs": [
    {
     "data": {
      "text/plain": [
       "'To establish the recommended configuration via GP, set the following UI path to 24 or \\nmore password(s): \\n'"
      ]
     },
     "execution_count": 18,
     "metadata": {},
     "output_type": "execute_result"
    }
   ],
   "source": [
    "PATTERN_DIV_REMEDIATION=re.compile(r'(: \\n)', re.DOTALL)\n",
    "\"\".join(PATTERN_DIV_REMEDIATION.split(DF['Remediation'][0])[:-1])"
   ]
  },
  {
   "cell_type": "code",
   "execution_count": 19,
   "metadata": {},
   "outputs": [],
   "source": [
    "DF_final['Procedimiento de implementación']=DF['Remediation'].apply(lambda x: \"\".join(PATTERN_DIV_REMEDIATION.split(x)[:-1]))\n",
    "DF_final['Config implementación']=DF['Remediation'].apply(lambda x: PATTERN_DIV_REMEDIATION.split(x)[-1])"
   ]
  },
  {
   "cell_type": "code",
   "execution_count": 20,
   "metadata": {},
   "outputs": [
    {
     "data": {
      "text/plain": [
       "['Navigate to the UI Path articulated in the Remediation section and confirm it is set as \\nprescribed. This group policy setting is backed by the following registry location',\n",
       " ': \\n',\n",
       " 'HKEY_LOCAL_MACHINE\\\\SOFTWARE\\\\Policies\\\\Microsoft\\\\WindowsFirewall\\\\PrivateProfile\\n:DefaultOutboundAction']"
      ]
     },
     "execution_count": 20,
     "metadata": {},
     "output_type": "execute_result"
    }
   ],
   "source": [
    "PATTERN_DIV_AUDIT=re.compile(r'(: \\n)', re.DOTALL)\n",
    "PATTERN_DIV_AUDIT.split(DF['Audit'][130])"
   ]
  },
  {
   "cell_type": "code",
   "execution_count": 21,
   "metadata": {},
   "outputs": [],
   "source": [
    "DF_final['Procedimiento de verificación']=DF['Audit'].apply(lambda x: \"\".join(PATTERN_DIV_AUDIT.split(x)[:-1]))\n",
    "DF_final['Procedimiento de verificación']=DF['Audit'].apply(\n",
    "    lambda x:\n",
    "    \"\".join(PATTERN_DIV_AUDIT.split(x)[:-1]) if len(PATTERN_DIV_AUDIT.split(x))>1 \n",
    "    else x\n",
    ")\n"
   ]
  },
  {
   "cell_type": "code",
   "execution_count": 22,
   "metadata": {},
   "outputs": [],
   "source": [
    "DF_final['Config verificación']=DF['Audit'].apply(\n",
    "    lambda x:\n",
    "    PATTERN_DIV_AUDIT.split(x)[-1] if len(PATTERN_DIV_AUDIT.split(x))>1\n",
    "    else \"\"\n",
    ")\n"
   ]
  },
  {
   "cell_type": "markdown",
   "metadata": {},
   "source": [
    "### Procedimiento de implementación\n",
    "Esta columna esta compuesta por la sección de state y la sección de remmediation, por lo que se procede a unir en esta ambas columnas"
   ]
  },
  {
   "cell_type": "code",
   "execution_count": 23,
   "metadata": {},
   "outputs": [],
   "source": [
    "DF_final['Procedimiento de implementación']=DF['State']+\" \"+DF_final['Procedimiento de implementación']"
   ]
  },
  {
   "cell_type": "code",
   "execution_count": 24,
   "metadata": {},
   "outputs": [
    {
     "data": {
      "text/html": [
       "<div>\n",
       "<style scoped>\n",
       "    .dataframe tbody tr th:only-of-type {\n",
       "        vertical-align: middle;\n",
       "    }\n",
       "\n",
       "    .dataframe tbody tr th {\n",
       "        vertical-align: top;\n",
       "    }\n",
       "\n",
       "    .dataframe thead th {\n",
       "        text-align: right;\n",
       "    }\n",
       "</style>\n",
       "<table border=\"1\" class=\"dataframe\">\n",
       "  <thead>\n",
       "    <tr style=\"text-align: right;\">\n",
       "      <th></th>\n",
       "      <th>IDCIS</th>\n",
       "      <th>Parametro</th>\n",
       "      <th>MS/DS</th>\n",
       "      <th>Descripción</th>\n",
       "      <th>Procedimiento de implementación</th>\n",
       "      <th>Procedimiento de verificación</th>\n",
       "      <th>Config implementación</th>\n",
       "      <th>Config verificación</th>\n",
       "    </tr>\n",
       "  </thead>\n",
       "  <tbody>\n",
       "    <tr>\n",
       "      <th>0</th>\n",
       "      <td>1.1.1</td>\n",
       "      <td>Ensure 'Enforce password history' is set to '2...</td>\n",
       "      <td>None</td>\n",
       "      <td>This policy setting determines the number of r...</td>\n",
       "      <td>The recommended state for this setting is: 24 ...</td>\n",
       "      <td>Navigate to the UI Path articulated in the Rem...</td>\n",
       "      <td>Computer Configuration\\Policies\\Windows Settin...</td>\n",
       "      <td></td>\n",
       "    </tr>\n",
       "    <tr>\n",
       "      <th>1</th>\n",
       "      <td>1.1.2</td>\n",
       "      <td>Ensure 'Maximum password age' is set to '365 o...</td>\n",
       "      <td>None</td>\n",
       "      <td>This policy setting defines how long a user ca...</td>\n",
       "      <td>The recommended state for this setting is 365 ...</td>\n",
       "      <td>Navigate to the UI Path articulated in the Rem...</td>\n",
       "      <td>Computer Configuration\\Policies\\Windows Settin...</td>\n",
       "      <td></td>\n",
       "    </tr>\n",
       "    <tr>\n",
       "      <th>2</th>\n",
       "      <td>1.1.3</td>\n",
       "      <td>Ensure 'Minimum password age' is set to '1 or ...</td>\n",
       "      <td>None</td>\n",
       "      <td>This policy setting determines the number of d...</td>\n",
       "      <td>The recommended state for this setting is: 1 o...</td>\n",
       "      <td>Navigate to the UI Path articulated in the Rem...</td>\n",
       "      <td>Computer Configuration\\Policies\\Windows Settin...</td>\n",
       "      <td></td>\n",
       "    </tr>\n",
       "    <tr>\n",
       "      <th>3</th>\n",
       "      <td>1.1.4</td>\n",
       "      <td>Ensure 'Minimum password length' is set to '14...</td>\n",
       "      <td>None</td>\n",
       "      <td>This policy setting determines the least numbe...</td>\n",
       "      <td>The recommended state for this setting is: 14 ...</td>\n",
       "      <td>Navigate to the UI Path articulated in the Rem...</td>\n",
       "      <td>Computer Configuration\\Policies\\Windows Settin...</td>\n",
       "      <td></td>\n",
       "    </tr>\n",
       "    <tr>\n",
       "      <th>4</th>\n",
       "      <td>1.1.5</td>\n",
       "      <td>Ensure 'Password must meet complexity requirem...</td>\n",
       "      <td>None</td>\n",
       "      <td>This policy setting checks all new passwords t...</td>\n",
       "      <td>The recommended state for this setting is: Ena...</td>\n",
       "      <td>Navigate to the UI Path articulated in the Rem...</td>\n",
       "      <td>Computer Configuration\\Policies\\Windows Settin...</td>\n",
       "      <td></td>\n",
       "    </tr>\n",
       "    <tr>\n",
       "      <th>...</th>\n",
       "      <td>...</td>\n",
       "      <td>...</td>\n",
       "      <td>...</td>\n",
       "      <td>...</td>\n",
       "      <td>...</td>\n",
       "      <td>...</td>\n",
       "      <td>...</td>\n",
       "      <td>...</td>\n",
       "    </tr>\n",
       "    <tr>\n",
       "      <th>312</th>\n",
       "      <td>19.7.4.1</td>\n",
       "      <td>Ensure 'Do not preserve zone information in fi...</td>\n",
       "      <td>None</td>\n",
       "      <td>This policy setting allows you to manage wheth...</td>\n",
       "      <td>The recommended state for this setting is: Dis...</td>\n",
       "      <td>Navigate to the UI Path articulated in the Rem...</td>\n",
       "      <td>User Configuration\\Policies\\Administrative Tem...</td>\n",
       "      <td>HKEY_USERS\\[USER \\nSID]\\Software\\Microsoft\\Win...</td>\n",
       "    </tr>\n",
       "    <tr>\n",
       "      <th>313</th>\n",
       "      <td>19.7.4.2</td>\n",
       "      <td>Ensure 'Notify antivirus programs when opening...</td>\n",
       "      <td>None</td>\n",
       "      <td>This policy setting manages the behavior for n...</td>\n",
       "      <td>The recommended state for this setting is: Ena...</td>\n",
       "      <td>Navigate to the UI Path articulated in the Rem...</td>\n",
       "      <td>User Configuration\\Policies\\Administrative Tem...</td>\n",
       "      <td>HKEY_USERS\\[USER \\nSID]\\Software\\Microsoft\\Win...</td>\n",
       "    </tr>\n",
       "    <tr>\n",
       "      <th>314</th>\n",
       "      <td>19.7.28.1</td>\n",
       "      <td>Ensure 'Prevent users from sharing files withi...</td>\n",
       "      <td>None</td>\n",
       "      <td>This policy setting determines whether users c...</td>\n",
       "      <td>The recommended state for this setting is: Ena...</td>\n",
       "      <td>Navigate to the UI Path articulated in the Rem...</td>\n",
       "      <td>User Configuration\\Policies\\Administrative Tem...</td>\n",
       "      <td>HKEY_USERS\\[USER \\nSID]\\Software\\Microsoft\\Win...</td>\n",
       "    </tr>\n",
       "    <tr>\n",
       "      <th>315</th>\n",
       "      <td>19.7.43.1</td>\n",
       "      <td>Ensure 'Always install with elevated privilege...</td>\n",
       "      <td>None</td>\n",
       "      <td>This setting controls whether or not Windows I...</td>\n",
       "      <td>The recommended state for this setting is: Dis...</td>\n",
       "      <td>Navigate to the UI Path articulated in the Rem...</td>\n",
       "      <td>User Configuration\\Policies\\Administrative Tem...</td>\n",
       "      <td>HKEY_USERS\\[USER \\nSID]\\Software\\Policies\\Micr...</td>\n",
       "    </tr>\n",
       "    <tr>\n",
       "      <th>316</th>\n",
       "      <td>19.7.47.2.1</td>\n",
       "      <td>Ensure 'Prevent Codec Download' is set to \\n'E...</td>\n",
       "      <td>None</td>\n",
       "      <td>This setting controls whether Windows Media Pl...</td>\n",
       "      <td>The recommended state for this setting is: Ena...</td>\n",
       "      <td>Navigate to the UI Path articulated in the Rem...</td>\n",
       "      <td>User Configuration\\Policies\\Administrative Tem...</td>\n",
       "      <td>HKEY_USERS\\[USER \\nSID]\\Software\\Policies\\Micr...</td>\n",
       "    </tr>\n",
       "  </tbody>\n",
       "</table>\n",
       "<p>317 rows × 8 columns</p>\n",
       "</div>"
      ],
      "text/plain": [
       "           IDCIS                                          Parametro MS/DS  \\\n",
       "0          1.1.1  Ensure 'Enforce password history' is set to '2...  None   \n",
       "1          1.1.2  Ensure 'Maximum password age' is set to '365 o...  None   \n",
       "2          1.1.3  Ensure 'Minimum password age' is set to '1 or ...  None   \n",
       "3          1.1.4  Ensure 'Minimum password length' is set to '14...  None   \n",
       "4          1.1.5  Ensure 'Password must meet complexity requirem...  None   \n",
       "..           ...                                                ...   ...   \n",
       "312     19.7.4.1  Ensure 'Do not preserve zone information in fi...  None   \n",
       "313     19.7.4.2  Ensure 'Notify antivirus programs when opening...  None   \n",
       "314    19.7.28.1  Ensure 'Prevent users from sharing files withi...  None   \n",
       "315    19.7.43.1  Ensure 'Always install with elevated privilege...  None   \n",
       "316  19.7.47.2.1  Ensure 'Prevent Codec Download' is set to \\n'E...  None   \n",
       "\n",
       "                                           Descripción  \\\n",
       "0    This policy setting determines the number of r...   \n",
       "1    This policy setting defines how long a user ca...   \n",
       "2    This policy setting determines the number of d...   \n",
       "3    This policy setting determines the least numbe...   \n",
       "4    This policy setting checks all new passwords t...   \n",
       "..                                                 ...   \n",
       "312  This policy setting allows you to manage wheth...   \n",
       "313  This policy setting manages the behavior for n...   \n",
       "314  This policy setting determines whether users c...   \n",
       "315  This setting controls whether or not Windows I...   \n",
       "316  This setting controls whether Windows Media Pl...   \n",
       "\n",
       "                       Procedimiento de implementación  \\\n",
       "0    The recommended state for this setting is: 24 ...   \n",
       "1    The recommended state for this setting is 365 ...   \n",
       "2    The recommended state for this setting is: 1 o...   \n",
       "3    The recommended state for this setting is: 14 ...   \n",
       "4    The recommended state for this setting is: Ena...   \n",
       "..                                                 ...   \n",
       "312  The recommended state for this setting is: Dis...   \n",
       "313  The recommended state for this setting is: Ena...   \n",
       "314  The recommended state for this setting is: Ena...   \n",
       "315  The recommended state for this setting is: Dis...   \n",
       "316  The recommended state for this setting is: Ena...   \n",
       "\n",
       "                         Procedimiento de verificación  \\\n",
       "0    Navigate to the UI Path articulated in the Rem...   \n",
       "1    Navigate to the UI Path articulated in the Rem...   \n",
       "2    Navigate to the UI Path articulated in the Rem...   \n",
       "3    Navigate to the UI Path articulated in the Rem...   \n",
       "4    Navigate to the UI Path articulated in the Rem...   \n",
       "..                                                 ...   \n",
       "312  Navigate to the UI Path articulated in the Rem...   \n",
       "313  Navigate to the UI Path articulated in the Rem...   \n",
       "314  Navigate to the UI Path articulated in the Rem...   \n",
       "315  Navigate to the UI Path articulated in the Rem...   \n",
       "316  Navigate to the UI Path articulated in the Rem...   \n",
       "\n",
       "                                 Config implementación  \\\n",
       "0    Computer Configuration\\Policies\\Windows Settin...   \n",
       "1    Computer Configuration\\Policies\\Windows Settin...   \n",
       "2    Computer Configuration\\Policies\\Windows Settin...   \n",
       "3    Computer Configuration\\Policies\\Windows Settin...   \n",
       "4    Computer Configuration\\Policies\\Windows Settin...   \n",
       "..                                                 ...   \n",
       "312  User Configuration\\Policies\\Administrative Tem...   \n",
       "313  User Configuration\\Policies\\Administrative Tem...   \n",
       "314  User Configuration\\Policies\\Administrative Tem...   \n",
       "315  User Configuration\\Policies\\Administrative Tem...   \n",
       "316  User Configuration\\Policies\\Administrative Tem...   \n",
       "\n",
       "                                   Config verificación  \n",
       "0                                                       \n",
       "1                                                       \n",
       "2                                                       \n",
       "3                                                       \n",
       "4                                                       \n",
       "..                                                 ...  \n",
       "312  HKEY_USERS\\[USER \\nSID]\\Software\\Microsoft\\Win...  \n",
       "313  HKEY_USERS\\[USER \\nSID]\\Software\\Microsoft\\Win...  \n",
       "314  HKEY_USERS\\[USER \\nSID]\\Software\\Microsoft\\Win...  \n",
       "315  HKEY_USERS\\[USER \\nSID]\\Software\\Policies\\Micr...  \n",
       "316  HKEY_USERS\\[USER \\nSID]\\Software\\Policies\\Micr...  \n",
       "\n",
       "[317 rows x 8 columns]"
      ]
     },
     "execution_count": 24,
     "metadata": {},
     "output_type": "execute_result"
    }
   ],
   "source": [
    "DF_final"
   ]
  },
  {
   "cell_type": "code",
   "execution_count": 25,
   "metadata": {},
   "outputs": [],
   "source": [
    "DF_final.replace('\\n','', regex=True, inplace=True)"
   ]
  },
  {
   "cell_type": "code",
   "execution_count": 26,
   "metadata": {},
   "outputs": [],
   "source": [
    "DF_final.to_excel('../../output/Windows/clean/'+FILE+'_clean'+'.xlsx', index=False)"
   ]
  },
  {
   "cell_type": "markdown",
   "metadata": {},
   "source": []
  }
 ],
 "metadata": {
  "kernelspec": {
   "display_name": ".venv",
   "language": "python",
   "name": "python3"
  },
  "language_info": {
   "codemirror_mode": {
    "name": "ipython",
    "version": 3
   },
   "file_extension": ".py",
   "mimetype": "text/x-python",
   "name": "python",
   "nbconvert_exporter": "python",
   "pygments_lexer": "ipython3",
   "version": "3.11.4"
  }
 },
 "nbformat": 4,
 "nbformat_minor": 2
}
