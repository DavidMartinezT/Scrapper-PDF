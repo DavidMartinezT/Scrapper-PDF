{
 "cells": [
  {
   "cell_type": "markdown",
   "metadata": {},
   "source": [
    "# Limpieza de datos"
   ]
  },
  {
   "cell_type": "code",
   "execution_count": 1,
   "metadata": {},
   "outputs": [],
   "source": [
    "import pandas as pd\n",
    "import re   "
   ]
  },
  {
   "cell_type": "code",
   "execution_count": 25,
   "metadata": {},
   "outputs": [],
   "source": [
    "FILE='CIS_Apple_macOS_14.0_Sonoma_v1.0.0'"
   ]
  },
  {
   "cell_type": "code",
   "execution_count": 26,
   "metadata": {},
   "outputs": [],
   "source": [
    "df=pd.read_excel('../../output/Mac/extracted/'+FILE+'_extracted.xlsx')"
   ]
  },
  {
   "cell_type": "code",
   "execution_count": 27,
   "metadata": {},
   "outputs": [
    {
     "data": {
      "text/html": [
       "<div>\n",
       "<style scoped>\n",
       "    .dataframe tbody tr th:only-of-type {\n",
       "        vertical-align: middle;\n",
       "    }\n",
       "\n",
       "    .dataframe tbody tr th {\n",
       "        vertical-align: top;\n",
       "    }\n",
       "\n",
       "    .dataframe thead th {\n",
       "        text-align: right;\n",
       "    }\n",
       "</style>\n",
       "<table border=\"1\" class=\"dataframe\">\n",
       "  <thead>\n",
       "    <tr style=\"text-align: right;\">\n",
       "      <th></th>\n",
       "      <th>IDCIS</th>\n",
       "      <th>Title</th>\n",
       "      <th>Description</th>\n",
       "      <th>Audit</th>\n",
       "      <th>Remediation</th>\n",
       "    </tr>\n",
       "  </thead>\n",
       "  <tbody>\n",
       "    <tr>\n",
       "      <th>0</th>\n",
       "      <td>1.1</td>\n",
       "      <td>Ensure All Apple-provided Software Is Current ...</td>\n",
       "      <td>\\nSoftware vendors release security patches an...</td>\n",
       "      <td>Graphical Method: \\nPerform the following to e...</td>\n",
       "      <td>Graphical Method: \\nPerform the following to i...</td>\n",
       "    </tr>\n",
       "    <tr>\n",
       "      <th>1</th>\n",
       "      <td>1.2</td>\n",
       "      <td>Ensure Auto Update Is Enabled (Automated) \\n</td>\n",
       "      <td>\\nAuto Update verifies that your system has th...</td>\n",
       "      <td>Graphical Method: \\nPerform the following step...</td>\n",
       "      <td>Graphical Method: \\nPerform the following step...</td>\n",
       "    </tr>\n",
       "    <tr>\n",
       "      <th>2</th>\n",
       "      <td>1.3</td>\n",
       "      <td>Ensure Download New Updates When Available Is ...</td>\n",
       "      <td>\\nIn the GUI, both \"Install macOS updates\" and...</td>\n",
       "      <td>Perform the following to ensure the system is ...</td>\n",
       "      <td>Perform the following to enable the system to ...</td>\n",
       "    </tr>\n",
       "    <tr>\n",
       "      <th>3</th>\n",
       "      <td>1.4</td>\n",
       "      <td>Ensure Install of macOS Updates Is Enabled (Au...</td>\n",
       "      <td>\\nEnsure that macOS updates are installed afte...</td>\n",
       "      <td>Graphical Method: \\nPerform the following to e...</td>\n",
       "      <td>Graphical Method: \\nPerform the following step...</td>\n",
       "    </tr>\n",
       "    <tr>\n",
       "      <th>4</th>\n",
       "      <td>1.5</td>\n",
       "      <td>Ensure Install Application Updates from the Ap...</td>\n",
       "      <td>\\nEnsure that application updates are installe...</td>\n",
       "      <td>Graphical Method: \\nPerform the following step...</td>\n",
       "      <td>Graphical Method: \\nPerform the following step...</td>\n",
       "    </tr>\n",
       "    <tr>\n",
       "      <th>...</th>\n",
       "      <td>...</td>\n",
       "      <td>...</td>\n",
       "      <td>...</td>\n",
       "      <td>...</td>\n",
       "      <td>...</td>\n",
       "    </tr>\n",
       "    <tr>\n",
       "      <th>114</th>\n",
       "      <td>6.3.8</td>\n",
       "      <td>Audit Autofill (Manual) \\n</td>\n",
       "      <td>\\nAutofill capabilities in a Web Browser are a...</td>\n",
       "      <td>Graphical Method: \\nPerform the following step...</td>\n",
       "      <td>Profile Method: \\nCreate or edit a configurati...</td>\n",
       "    </tr>\n",
       "    <tr>\n",
       "      <th>115</th>\n",
       "      <td>6.3.9</td>\n",
       "      <td>Ensure Pop-up Windows Are Blocked (Automated) \\n</td>\n",
       "      <td>\\nBowser pop-up windows have long been one of ...</td>\n",
       "      <td>Graphical Method: \\nPerform the following to v...</td>\n",
       "      <td>Profile Method: \\nCreate or edit a configurati...</td>\n",
       "    </tr>\n",
       "    <tr>\n",
       "      <th>116</th>\n",
       "      <td>6.3.10</td>\n",
       "      <td>Ensure Javascript Is Enabled (Manual) \\n</td>\n",
       "      <td>\\nWhile some graybeards (Me not included) prom...</td>\n",
       "      <td>Graphical Method: \\nPerform the following to v...</td>\n",
       "      <td>Profile Method: \\nCreate or edit a configurati...</td>\n",
       "    </tr>\n",
       "    <tr>\n",
       "      <th>117</th>\n",
       "      <td>6.3.11</td>\n",
       "      <td>Ensure Show Status Bar Is Enabled (Automated) \\n</td>\n",
       "      <td>\\nThe Status Bar in Safari shows the full URL ...</td>\n",
       "      <td>Graphical Method: \\nPerform the following to v...</td>\n",
       "      <td>Profile Method: \\nCreate or edit a configurati...</td>\n",
       "    </tr>\n",
       "    <tr>\n",
       "      <th>118</th>\n",
       "      <td>6.4.1</td>\n",
       "      <td>Ensure Secure Keyboard Entry Terminal.app Is E...</td>\n",
       "      <td>\\nSecure Keyboard Entry prevents other applica...</td>\n",
       "      <td>Graphical Method: \\nPerform the following step...</td>\n",
       "      <td>Profile Method: \\nCreate or edit a configurati...</td>\n",
       "    </tr>\n",
       "  </tbody>\n",
       "</table>\n",
       "<p>119 rows × 5 columns</p>\n",
       "</div>"
      ],
      "text/plain": [
       "      IDCIS                                              Title  \\\n",
       "0       1.1  Ensure All Apple-provided Software Is Current ...   \n",
       "1       1.2       Ensure Auto Update Is Enabled (Automated) \\n   \n",
       "2       1.3  Ensure Download New Updates When Available Is ...   \n",
       "3       1.4  Ensure Install of macOS Updates Is Enabled (Au...   \n",
       "4       1.5  Ensure Install Application Updates from the Ap...   \n",
       "..      ...                                                ...   \n",
       "114   6.3.8                         Audit Autofill (Manual) \\n   \n",
       "115   6.3.9   Ensure Pop-up Windows Are Blocked (Automated) \\n   \n",
       "116  6.3.10           Ensure Javascript Is Enabled (Manual) \\n   \n",
       "117  6.3.11   Ensure Show Status Bar Is Enabled (Automated) \\n   \n",
       "118   6.4.1  Ensure Secure Keyboard Entry Terminal.app Is E...   \n",
       "\n",
       "                                           Description  \\\n",
       "0    \\nSoftware vendors release security patches an...   \n",
       "1    \\nAuto Update verifies that your system has th...   \n",
       "2    \\nIn the GUI, both \"Install macOS updates\" and...   \n",
       "3    \\nEnsure that macOS updates are installed afte...   \n",
       "4    \\nEnsure that application updates are installe...   \n",
       "..                                                 ...   \n",
       "114  \\nAutofill capabilities in a Web Browser are a...   \n",
       "115  \\nBowser pop-up windows have long been one of ...   \n",
       "116  \\nWhile some graybeards (Me not included) prom...   \n",
       "117  \\nThe Status Bar in Safari shows the full URL ...   \n",
       "118  \\nSecure Keyboard Entry prevents other applica...   \n",
       "\n",
       "                                                 Audit  \\\n",
       "0    Graphical Method: \\nPerform the following to e...   \n",
       "1    Graphical Method: \\nPerform the following step...   \n",
       "2    Perform the following to ensure the system is ...   \n",
       "3    Graphical Method: \\nPerform the following to e...   \n",
       "4    Graphical Method: \\nPerform the following step...   \n",
       "..                                                 ...   \n",
       "114  Graphical Method: \\nPerform the following step...   \n",
       "115  Graphical Method: \\nPerform the following to v...   \n",
       "116  Graphical Method: \\nPerform the following to v...   \n",
       "117  Graphical Method: \\nPerform the following to v...   \n",
       "118  Graphical Method: \\nPerform the following step...   \n",
       "\n",
       "                                           Remediation  \n",
       "0    Graphical Method: \\nPerform the following to i...  \n",
       "1    Graphical Method: \\nPerform the following step...  \n",
       "2    Perform the following to enable the system to ...  \n",
       "3    Graphical Method: \\nPerform the following step...  \n",
       "4    Graphical Method: \\nPerform the following step...  \n",
       "..                                                 ...  \n",
       "114  Profile Method: \\nCreate or edit a configurati...  \n",
       "115  Profile Method: \\nCreate or edit a configurati...  \n",
       "116  Profile Method: \\nCreate or edit a configurati...  \n",
       "117  Profile Method: \\nCreate or edit a configurati...  \n",
       "118  Profile Method: \\nCreate or edit a configurati...  \n",
       "\n",
       "[119 rows x 5 columns]"
      ]
     },
     "execution_count": 27,
     "metadata": {},
     "output_type": "execute_result"
    }
   ],
   "source": [
    "df"
   ]
  },
  {
   "cell_type": "markdown",
   "metadata": {},
   "source": [
    "A continuación se realiza la limpieza a cada una de las columnas para ello se consideran eliminar caracteres especiales como espacions en blanco, saltos de linea, tabulaciones, etc. Eliminar cadenas de caracteres que no aportan información relevante para el análisis, y además "
   ]
  },
  {
   "cell_type": "markdown",
   "metadata": {},
   "source": [
    "### Title"
   ]
  },
  {
   "cell_type": "code",
   "execution_count": 28,
   "metadata": {},
   "outputs": [],
   "source": [
    "df['Title']=df['Title'].str.replace('(Automated)','')\n",
    "df['Title']=df['Title'].str.replace('(Manual)','')\n",
    "df['Title']=df['Title'].sPATTERN_REMEDIATION= re.compile(r'(.*?)(\\nNote|$)', re.DOTALL)tr.strip()"
   ]
  },
  {
   "cell_type": "markdown",
   "metadata": {},
   "source": [
    "### Audit"
   ]
  },
  {
   "cell_type": "code",
   "execution_count": 31,
   "metadata": {},
   "outputs": [],
   "source": [
    "PATTERN_AUDIT= re.compile(r'(.*?)(\\nNote|$)', re.DOTALL)"
   ]
  },
  {
   "cell_type": "code",
   "execution_count": 32,
   "metadata": {},
   "outputs": [],
   "source": [
    "df['Audit']=df['Audit'].apply(lambda x: PATTERN_AUDIT.findall(x)[0][0])\n",
    "df['Audit']=df['Audit'].apply(lambda x: re.compile(r'Page \\d+', re.DOTALL).sub('',x))\n",
    "df['Audit']=df['Audit'].str.strip()"
   ]
  },
  {
   "cell_type": "markdown",
   "metadata": {},
   "source": [
    "### Remediation"
   ]
  },
  {
   "cell_type": "code",
   "execution_count": 33,
   "metadata": {},
   "outputs": [],
   "source": [
    "PATTERN_REMEDIATION= re.compile(r'(.*?)(\\nNote|$)', re.DOTALL)"
   ]
  },
  {
   "cell_type": "code",
   "execution_count": 34,
   "metadata": {},
   "outputs": [],
   "source": [
    "df['Remediation']=df['Remediation'].apply(lambda x: PATTERN_REMEDIATION.findall(x)[0][0])\n",
    "df['Remediation']=df['Remediation'].apply(lambda x: re.compile(r'Page \\d+', re.DOTALL).sub('',x))\n",
    "df['Remediation']=df['Remediation'].str.strip()"
   ]
  },
  {
   "cell_type": "markdown",
   "metadata": {},
   "source": [
    "### Description"
   ]
  },
  {
   "cell_type": "markdown",
   "metadata": {},
   "source": [
    "Una vez se ha extraido se limita la descripción hasta antes de la sección de estado recomendo o en algunos casos cuando empiezan las notas adicionales de la descripción"
   ]
  },
  {
   "cell_type": "code",
   "execution_count": 35,
   "metadata": {},
   "outputs": [],
   "source": [
    "PATTERN_DESCRIPTION=re.compile(r'(.*?)(\\nThe recommended|Note|$)', re.DOTALL)"
   ]
  },
  {
   "cell_type": "code",
   "execution_count": 36,
   "metadata": {},
   "outputs": [],
   "source": [
    "df['Description']=df['Description'].apply(lambda x: re.compile(r'Page \\d+', re.DOTALL).sub('',x))\n",
    "df['Description']=df['Description'].apply(lambda x: PATTERN_DESCRIPTION.search(x).group(1))\n",
    "df['Description']=df['Description'].str.strip()"
   ]
  },
  {
   "cell_type": "code",
   "execution_count": 37,
   "metadata": {},
   "outputs": [],
   "source": [
    "DF=df"
   ]
  },
  {
   "cell_type": "markdown",
   "metadata": {},
   "source": [
    "# Dataframe final"
   ]
  },
  {
   "cell_type": "code",
   "execution_count": 38,
   "metadata": {},
   "outputs": [],
   "source": [
    "DF_final=pd.DataFrame(columns=[\"IDCIS\", \"Parametro\", \"Descripción\", \"Procedimiento de implementación\", \"Procedimiento de verificación\", \"Config implementación\", \"Config verificación\"])"
   ]
  },
  {
   "cell_type": "code",
   "execution_count": 39,
   "metadata": {},
   "outputs": [],
   "source": [
    "DF_final['IDCIS']=DF['IDCIS']\n",
    "DF_final['Parametro']=DF['Title']\n",
    "DF_final['Descripción']=DF['Description']"
   ]
  },
  {
   "cell_type": "code",
   "execution_count": 40,
   "metadata": {},
   "outputs": [
    {
     "data": {
      "text/html": [
       "<div>\n",
       "<style scoped>\n",
       "    .dataframe tbody tr th:only-of-type {\n",
       "        vertical-align: middle;\n",
       "    }\n",
       "\n",
       "    .dataframe tbody tr th {\n",
       "        vertical-align: top;\n",
       "    }\n",
       "\n",
       "    .dataframe thead th {\n",
       "        text-align: right;\n",
       "    }\n",
       "</style>\n",
       "<table border=\"1\" class=\"dataframe\">\n",
       "  <thead>\n",
       "    <tr style=\"text-align: right;\">\n",
       "      <th></th>\n",
       "      <th>IDCIS</th>\n",
       "      <th>Title</th>\n",
       "      <th>Description</th>\n",
       "      <th>Audit</th>\n",
       "      <th>Remediation</th>\n",
       "    </tr>\n",
       "  </thead>\n",
       "  <tbody>\n",
       "    <tr>\n",
       "      <th>0</th>\n",
       "      <td>1.1</td>\n",
       "      <td>Ensure All Apple-provided Software Is Current</td>\n",
       "      <td>Software vendors release security patches and ...</td>\n",
       "      <td>Graphical Method: \\nPerform the following to e...</td>\n",
       "      <td>Graphical Method: \\nPerform the following to i...</td>\n",
       "    </tr>\n",
       "    <tr>\n",
       "      <th>1</th>\n",
       "      <td>1.2</td>\n",
       "      <td>Ensure Auto Update Is Enabled</td>\n",
       "      <td>Auto Update verifies that your system has the ...</td>\n",
       "      <td>Graphical Method: \\nPerform the following step...</td>\n",
       "      <td>Graphical Method: \\nPerform the following step...</td>\n",
       "    </tr>\n",
       "    <tr>\n",
       "      <th>2</th>\n",
       "      <td>1.3</td>\n",
       "      <td>Ensure Download New Updates When Available Is ...</td>\n",
       "      <td>In the GUI, both \"Install macOS updates\" and \"...</td>\n",
       "      <td>Perform the following to ensure the system is ...</td>\n",
       "      <td>Perform the following to enable the system to ...</td>\n",
       "    </tr>\n",
       "    <tr>\n",
       "      <th>3</th>\n",
       "      <td>1.4</td>\n",
       "      <td>Ensure Install of macOS Updates Is Enabled</td>\n",
       "      <td>Ensure that macOS updates are installed after ...</td>\n",
       "      <td>Graphical Method: \\nPerform the following to e...</td>\n",
       "      <td>Graphical Method: \\nPerform the following step...</td>\n",
       "    </tr>\n",
       "    <tr>\n",
       "      <th>4</th>\n",
       "      <td>1.5</td>\n",
       "      <td>Ensure Install Application Updates from the Ap...</td>\n",
       "      <td>Ensure that application updates are installed ...</td>\n",
       "      <td>Graphical Method: \\nPerform the following step...</td>\n",
       "      <td>Graphical Method: \\nPerform the following step...</td>\n",
       "    </tr>\n",
       "    <tr>\n",
       "      <th>...</th>\n",
       "      <td>...</td>\n",
       "      <td>...</td>\n",
       "      <td>...</td>\n",
       "      <td>...</td>\n",
       "      <td>...</td>\n",
       "    </tr>\n",
       "    <tr>\n",
       "      <th>114</th>\n",
       "      <td>6.3.8</td>\n",
       "      <td>Audit Autofill</td>\n",
       "      <td>Autofill capabilities in a Web Browser are a f...</td>\n",
       "      <td>Graphical Method: \\nPerform the following step...</td>\n",
       "      <td>Profile Method: \\nCreate or edit a configurati...</td>\n",
       "    </tr>\n",
       "    <tr>\n",
       "      <th>115</th>\n",
       "      <td>6.3.9</td>\n",
       "      <td>Ensure Pop-up Windows Are Blocked</td>\n",
       "      <td>Bowser pop-up windows have long been one of th...</td>\n",
       "      <td>Graphical Method: \\nPerform the following to v...</td>\n",
       "      <td>Profile Method: \\nCreate or edit a configurati...</td>\n",
       "    </tr>\n",
       "    <tr>\n",
       "      <th>116</th>\n",
       "      <td>6.3.10</td>\n",
       "      <td>Ensure Javascript Is Enabled</td>\n",
       "      <td>While some graybeards (Me not included) promot...</td>\n",
       "      <td>Graphical Method: \\nPerform the following to v...</td>\n",
       "      <td>Profile Method: \\nCreate or edit a configurati...</td>\n",
       "    </tr>\n",
       "    <tr>\n",
       "      <th>117</th>\n",
       "      <td>6.3.11</td>\n",
       "      <td>Ensure Show Status Bar Is Enabled</td>\n",
       "      <td>The Status Bar in Safari shows the full URL of...</td>\n",
       "      <td>Graphical Method: \\nPerform the following to v...</td>\n",
       "      <td>Profile Method: \\nCreate or edit a configurati...</td>\n",
       "    </tr>\n",
       "    <tr>\n",
       "      <th>118</th>\n",
       "      <td>6.4.1</td>\n",
       "      <td>Ensure Secure Keyboard Entry Terminal.app Is E...</td>\n",
       "      <td>Secure Keyboard Entry prevents other applicati...</td>\n",
       "      <td>Graphical Method: \\nPerform the following step...</td>\n",
       "      <td>Profile Method: \\nCreate or edit a configurati...</td>\n",
       "    </tr>\n",
       "  </tbody>\n",
       "</table>\n",
       "<p>119 rows × 5 columns</p>\n",
       "</div>"
      ],
      "text/plain": [
       "      IDCIS                                              Title  \\\n",
       "0       1.1      Ensure All Apple-provided Software Is Current   \n",
       "1       1.2                      Ensure Auto Update Is Enabled   \n",
       "2       1.3  Ensure Download New Updates When Available Is ...   \n",
       "3       1.4         Ensure Install of macOS Updates Is Enabled   \n",
       "4       1.5  Ensure Install Application Updates from the Ap...   \n",
       "..      ...                                                ...   \n",
       "114   6.3.8                                     Audit Autofill   \n",
       "115   6.3.9                  Ensure Pop-up Windows Are Blocked   \n",
       "116  6.3.10                       Ensure Javascript Is Enabled   \n",
       "117  6.3.11                  Ensure Show Status Bar Is Enabled   \n",
       "118   6.4.1  Ensure Secure Keyboard Entry Terminal.app Is E...   \n",
       "\n",
       "                                           Description  \\\n",
       "0    Software vendors release security patches and ...   \n",
       "1    Auto Update verifies that your system has the ...   \n",
       "2    In the GUI, both \"Install macOS updates\" and \"...   \n",
       "3    Ensure that macOS updates are installed after ...   \n",
       "4    Ensure that application updates are installed ...   \n",
       "..                                                 ...   \n",
       "114  Autofill capabilities in a Web Browser are a f...   \n",
       "115  Bowser pop-up windows have long been one of th...   \n",
       "116  While some graybeards (Me not included) promot...   \n",
       "117  The Status Bar in Safari shows the full URL of...   \n",
       "118  Secure Keyboard Entry prevents other applicati...   \n",
       "\n",
       "                                                 Audit  \\\n",
       "0    Graphical Method: \\nPerform the following to e...   \n",
       "1    Graphical Method: \\nPerform the following step...   \n",
       "2    Perform the following to ensure the system is ...   \n",
       "3    Graphical Method: \\nPerform the following to e...   \n",
       "4    Graphical Method: \\nPerform the following step...   \n",
       "..                                                 ...   \n",
       "114  Graphical Method: \\nPerform the following step...   \n",
       "115  Graphical Method: \\nPerform the following to v...   \n",
       "116  Graphical Method: \\nPerform the following to v...   \n",
       "117  Graphical Method: \\nPerform the following to v...   \n",
       "118  Graphical Method: \\nPerform the following step...   \n",
       "\n",
       "                                           Remediation  \n",
       "0    Graphical Method: \\nPerform the following to i...  \n",
       "1    Graphical Method: \\nPerform the following step...  \n",
       "2    Perform the following to enable the system to ...  \n",
       "3    Graphical Method: \\nPerform the following step...  \n",
       "4    Graphical Method: \\nPerform the following step...  \n",
       "..                                                 ...  \n",
       "114  Profile Method: \\nCreate or edit a configurati...  \n",
       "115  Profile Method: \\nCreate or edit a configurati...  \n",
       "116  Profile Method: \\nCreate or edit a configurati...  \n",
       "117  Profile Method: \\nCreate or edit a configurati...  \n",
       "118  Profile Method: \\nCreate or edit a configurati...  \n",
       "\n",
       "[119 rows x 5 columns]"
      ]
     },
     "execution_count": 40,
     "metadata": {},
     "output_type": "execute_result"
    }
   ],
   "source": [
    "DF"
   ]
  },
  {
   "cell_type": "markdown",
   "metadata": {},
   "source": [
    "## Dividir zonas sin traducción"
   ]
  },
  {
   "cell_type": "markdown",
   "metadata": {},
   "source": [
    "Debido a que tanto implementación como configuración contienen secciones de configuración que no desean ser traducidas se extraen cada una de estas secciones y se almacenan en columnas separadas, para despues unirlas una vez se haya realizado la traducción."
   ]
  },
  {
   "cell_type": "code",
   "execution_count": 42,
   "metadata": {},
   "outputs": [
    {
     "data": {
      "text/plain": [
       "\"Graphical Method: \\nPerform the following to install all available software updates: \\n1. Open System Settings \\n2. Select General \\n3. Select Software Update \\n4. Select Update All \\n \\n \\n \\nTerminal Method: \\nRun the following command to verify what packages need to be installed: \\n$ /usr/bin/sudo /usr/sbin/softwareupdate -l  \\nThe output will include the following: \\nSoftware Update found the following new or updated software: \\nRun the following command to install all the packages that need to be updated: \\nTo install all updates run the command: \\n$ /usr/bin/sudo /usr/sbin/softwareupdate -i -a \\nOr run the following command to install individual packages: \\n$ /usr/bin/sudo /usr/sbin/softwareupdate -i '<package name>'\""
      ]
     },
     "execution_count": 42,
     "metadata": {},
     "output_type": "execute_result"
    }
   ],
   "source": [
    "DF['Remediation'][0]"
   ]
  },
  {
   "cell_type": "code",
   "execution_count": 23,
   "metadata": {},
   "outputs": [
    {
     "data": {
      "text/plain": [
       "'To establish the recommended configuration via GP, set the following UI path to 24 or \\nmore password(s): \\n'"
      ]
     },
     "execution_count": 23,
     "metadata": {},
     "output_type": "execute_result"
    }
   ],
   "source": [
    "PATTERN_DIV_REMEDIATION=re.compile(r'(: \\n)', re.DOTALL)\n",
    "\"\".join(PATTERN_DIV_REMEDIATION.split(DF['Remediation'][0])[:-1])"
   ]
  },
  {
   "cell_type": "code",
   "execution_count": 24,
   "metadata": {},
   "outputs": [],
   "source": [
    "DF_final['Procedimiento de implementación']=DF['Remediation'].apply(lambda x: \"\".join(PATTERN_DIV_REMEDIATION.split(x)[:-1]))\n",
    "DF_final['Config implementación']=DF['Remediation'].apply(lambda x: PATTERN_DIV_REMEDIATION.split(x)[-1])"
   ]
  },
  {
   "cell_type": "code",
   "execution_count": 25,
   "metadata": {},
   "outputs": [
    {
     "data": {
      "text/plain": [
       "['Navigate to the UI Path articulated in the Remediation section and confirm it is set as \\nprescribed. This group policy setting is backed by the following registry location',\n",
       " ': \\n',\n",
       " 'HKEY_LOCAL_MACHINE\\\\SOFTWARE\\\\Policies\\\\Microsoft\\\\WindowsFirewall\\\\PrivateProfile\\n:DefaultOutboundAction']"
      ]
     },
     "execution_count": 25,
     "metadata": {},
     "output_type": "execute_result"
    }
   ],
   "source": [
    "PATTERN_DIV_AUDIT=re.compile(r'(: \\n)', re.DOTALL)\n",
    "PATTERN_DIV_AUDIT.split(DF['Audit'][130])"
   ]
  },
  {
   "cell_type": "code",
   "execution_count": 26,
   "metadata": {},
   "outputs": [],
   "source": [
    "DF_final['Procedimiento de verificación']=DF['Audit'].apply(lambda x: \"\".join(PATTERN_DIV_AUDIT.split(x)[:-1]))\n",
    "DF_final['Procedimiento de verificación']=DF['Audit'].apply(\n",
    "    lambda x:\n",
    "    \"\".join(PATTERN_DIV_AUDIT.split(x)[:-1]) if len(PATTERN_DIV_AUDIT.split(x))>1 \n",
    "    else x\n",
    ")\n"
   ]
  },
  {
   "cell_type": "code",
   "execution_count": 27,
   "metadata": {},
   "outputs": [],
   "source": [
    "DF_final['Config verificación']=DF['Audit'].apply(\n",
    "    lambda x:\n",
    "    PATTERN_DIV_AUDIT.split(x)[-1] if len(PATTERN_DIV_AUDIT.split(x))>1\n",
    "    else \"\"\n",
    ")\n"
   ]
  },
  {
   "cell_type": "markdown",
   "metadata": {},
   "source": [
    "### Procedimiento de implementación\n",
    "Esta columna esta compuesta por la sección de state y la sección de remmediation, por lo que se procede a unir en esta ambas columnas"
   ]
  },
  {
   "cell_type": "code",
   "execution_count": 28,
   "metadata": {},
   "outputs": [],
   "source": [
    "DF_final['Procedimiento de implementación']=DF['State']+\" \"+DF_final['Procedimiento de implementación']"
   ]
  },
  {
   "cell_type": "code",
   "execution_count": 29,
   "metadata": {},
   "outputs": [
    {
     "data": {
      "text/html": [
       "<div>\n",
       "<style scoped>\n",
       "    .dataframe tbody tr th:only-of-type {\n",
       "        vertical-align: middle;\n",
       "    }\n",
       "\n",
       "    .dataframe tbody tr th {\n",
       "        vertical-align: top;\n",
       "    }\n",
       "\n",
       "    .dataframe thead th {\n",
       "        text-align: right;\n",
       "    }\n",
       "</style>\n",
       "<table border=\"1\" class=\"dataframe\">\n",
       "  <thead>\n",
       "    <tr style=\"text-align: right;\">\n",
       "      <th></th>\n",
       "      <th>IDCIS</th>\n",
       "      <th>Parametro</th>\n",
       "      <th>MS/DS</th>\n",
       "      <th>Descripción</th>\n",
       "      <th>Procedimiento de implementación</th>\n",
       "      <th>Procedimiento de verificación</th>\n",
       "      <th>Config implementación</th>\n",
       "      <th>Config verificación</th>\n",
       "    </tr>\n",
       "  </thead>\n",
       "  <tbody>\n",
       "    <tr>\n",
       "      <th>0</th>\n",
       "      <td>1.1.1</td>\n",
       "      <td>Ensure 'Enforce password history' is set to '2...</td>\n",
       "      <td>None</td>\n",
       "      <td>This policy setting determines the number of r...</td>\n",
       "      <td>The recommended state for this setting is: 24 ...</td>\n",
       "      <td>Navigate to the UI Path articulated in the Rem...</td>\n",
       "      <td>Computer Configuration\\Policies\\Windows Settin...</td>\n",
       "      <td></td>\n",
       "    </tr>\n",
       "    <tr>\n",
       "      <th>1</th>\n",
       "      <td>1.1.2</td>\n",
       "      <td>Ensure 'Maximum password age' is set to '365 o...</td>\n",
       "      <td>None</td>\n",
       "      <td>This policy setting defines how long a user ca...</td>\n",
       "      <td>The recommended state for this setting is 365 ...</td>\n",
       "      <td>Navigate to the UI Path articulated in the Rem...</td>\n",
       "      <td>Computer Configuration\\Policies\\Windows Settin...</td>\n",
       "      <td></td>\n",
       "    </tr>\n",
       "    <tr>\n",
       "      <th>2</th>\n",
       "      <td>1.1.3</td>\n",
       "      <td>Ensure 'Minimum password age' is set to '1 or ...</td>\n",
       "      <td>None</td>\n",
       "      <td>This policy setting determines the number of d...</td>\n",
       "      <td>The recommended state for this setting is: 1 o...</td>\n",
       "      <td>Navigate to the UI Path articulated in the Rem...</td>\n",
       "      <td>Computer Configuration\\Policies\\Windows Settin...</td>\n",
       "      <td></td>\n",
       "    </tr>\n",
       "    <tr>\n",
       "      <th>3</th>\n",
       "      <td>1.1.4</td>\n",
       "      <td>Ensure 'Minimum password length' is set to '14...</td>\n",
       "      <td>None</td>\n",
       "      <td>This policy setting determines the least numbe...</td>\n",
       "      <td>The recommended state for this setting is: 14 ...</td>\n",
       "      <td>Navigate to the UI Path articulated in the Rem...</td>\n",
       "      <td>Computer Configuration\\Policies\\Windows Settin...</td>\n",
       "      <td></td>\n",
       "    </tr>\n",
       "    <tr>\n",
       "      <th>4</th>\n",
       "      <td>1.1.5</td>\n",
       "      <td>Ensure 'Password must meet complexity requirem...</td>\n",
       "      <td>None</td>\n",
       "      <td>This policy setting checks all new passwords t...</td>\n",
       "      <td>The recommended state for this setting is: Ena...</td>\n",
       "      <td>Navigate to the UI Path articulated in the Rem...</td>\n",
       "      <td>Computer Configuration\\Policies\\Windows Settin...</td>\n",
       "      <td></td>\n",
       "    </tr>\n",
       "    <tr>\n",
       "      <th>...</th>\n",
       "      <td>...</td>\n",
       "      <td>...</td>\n",
       "      <td>...</td>\n",
       "      <td>...</td>\n",
       "      <td>...</td>\n",
       "      <td>...</td>\n",
       "      <td>...</td>\n",
       "      <td>...</td>\n",
       "    </tr>\n",
       "    <tr>\n",
       "      <th>312</th>\n",
       "      <td>19.7.4.1</td>\n",
       "      <td>Ensure 'Do not preserve zone information in fi...</td>\n",
       "      <td>None</td>\n",
       "      <td>This policy setting allows you to manage wheth...</td>\n",
       "      <td>The recommended state for this setting is: Dis...</td>\n",
       "      <td>Navigate to the UI Path articulated in the Rem...</td>\n",
       "      <td>User Configuration\\Policies\\Administrative Tem...</td>\n",
       "      <td>HKEY_USERS\\[USER \\nSID]\\Software\\Microsoft\\Win...</td>\n",
       "    </tr>\n",
       "    <tr>\n",
       "      <th>313</th>\n",
       "      <td>19.7.4.2</td>\n",
       "      <td>Ensure 'Notify antivirus programs when opening...</td>\n",
       "      <td>None</td>\n",
       "      <td>This policy setting manages the behavior for n...</td>\n",
       "      <td>The recommended state for this setting is: Ena...</td>\n",
       "      <td>Navigate to the UI Path articulated in the Rem...</td>\n",
       "      <td>User Configuration\\Policies\\Administrative Tem...</td>\n",
       "      <td>HKEY_USERS\\[USER \\nSID]\\Software\\Microsoft\\Win...</td>\n",
       "    </tr>\n",
       "    <tr>\n",
       "      <th>314</th>\n",
       "      <td>19.7.28.1</td>\n",
       "      <td>Ensure 'Prevent users from sharing files withi...</td>\n",
       "      <td>None</td>\n",
       "      <td>This policy setting determines whether users c...</td>\n",
       "      <td>The recommended state for this setting is: Ena...</td>\n",
       "      <td>Navigate to the UI Path articulated in the Rem...</td>\n",
       "      <td>User Configuration\\Policies\\Administrative Tem...</td>\n",
       "      <td>HKEY_USERS\\[USER \\nSID]\\Software\\Microsoft\\Win...</td>\n",
       "    </tr>\n",
       "    <tr>\n",
       "      <th>315</th>\n",
       "      <td>19.7.43.1</td>\n",
       "      <td>Ensure 'Always install with elevated privilege...</td>\n",
       "      <td>None</td>\n",
       "      <td>This setting controls whether or not Windows I...</td>\n",
       "      <td>The recommended state for this setting is: Dis...</td>\n",
       "      <td>Navigate to the UI Path articulated in the Rem...</td>\n",
       "      <td>User Configuration\\Policies\\Administrative Tem...</td>\n",
       "      <td>HKEY_USERS\\[USER \\nSID]\\Software\\Policies\\Micr...</td>\n",
       "    </tr>\n",
       "    <tr>\n",
       "      <th>316</th>\n",
       "      <td>19.7.47.2.1</td>\n",
       "      <td>Ensure 'Prevent Codec Download' is set to \\n'E...</td>\n",
       "      <td>None</td>\n",
       "      <td>This setting controls whether Windows Media Pl...</td>\n",
       "      <td>The recommended state for this setting is: Ena...</td>\n",
       "      <td>Navigate to the UI Path articulated in the Rem...</td>\n",
       "      <td>User Configuration\\Policies\\Administrative Tem...</td>\n",
       "      <td>HKEY_USERS\\[USER \\nSID]\\Software\\Policies\\Micr...</td>\n",
       "    </tr>\n",
       "  </tbody>\n",
       "</table>\n",
       "<p>317 rows × 8 columns</p>\n",
       "</div>"
      ],
      "text/plain": [
       "           IDCIS                                          Parametro MS/DS  \\\n",
       "0          1.1.1  Ensure 'Enforce password history' is set to '2...  None   \n",
       "1          1.1.2  Ensure 'Maximum password age' is set to '365 o...  None   \n",
       "2          1.1.3  Ensure 'Minimum password age' is set to '1 or ...  None   \n",
       "3          1.1.4  Ensure 'Minimum password length' is set to '14...  None   \n",
       "4          1.1.5  Ensure 'Password must meet complexity requirem...  None   \n",
       "..           ...                                                ...   ...   \n",
       "312     19.7.4.1  Ensure 'Do not preserve zone information in fi...  None   \n",
       "313     19.7.4.2  Ensure 'Notify antivirus programs when opening...  None   \n",
       "314    19.7.28.1  Ensure 'Prevent users from sharing files withi...  None   \n",
       "315    19.7.43.1  Ensure 'Always install with elevated privilege...  None   \n",
       "316  19.7.47.2.1  Ensure 'Prevent Codec Download' is set to \\n'E...  None   \n",
       "\n",
       "                                           Descripción  \\\n",
       "0    This policy setting determines the number of r...   \n",
       "1    This policy setting defines how long a user ca...   \n",
       "2    This policy setting determines the number of d...   \n",
       "3    This policy setting determines the least numbe...   \n",
       "4    This policy setting checks all new passwords t...   \n",
       "..                                                 ...   \n",
       "312  This policy setting allows you to manage wheth...   \n",
       "313  This policy setting manages the behavior for n...   \n",
       "314  This policy setting determines whether users c...   \n",
       "315  This setting controls whether or not Windows I...   \n",
       "316  This setting controls whether Windows Media Pl...   \n",
       "\n",
       "                       Procedimiento de implementación  \\\n",
       "0    The recommended state for this setting is: 24 ...   \n",
       "1    The recommended state for this setting is 365 ...   \n",
       "2    The recommended state for this setting is: 1 o...   \n",
       "3    The recommended state for this setting is: 14 ...   \n",
       "4    The recommended state for this setting is: Ena...   \n",
       "..                                                 ...   \n",
       "312  The recommended state for this setting is: Dis...   \n",
       "313  The recommended state for this setting is: Ena...   \n",
       "314  The recommended state for this setting is: Ena...   \n",
       "315  The recommended state for this setting is: Dis...   \n",
       "316  The recommended state for this setting is: Ena...   \n",
       "\n",
       "                         Procedimiento de verificación  \\\n",
       "0    Navigate to the UI Path articulated in the Rem...   \n",
       "1    Navigate to the UI Path articulated in the Rem...   \n",
       "2    Navigate to the UI Path articulated in the Rem...   \n",
       "3    Navigate to the UI Path articulated in the Rem...   \n",
       "4    Navigate to the UI Path articulated in the Rem...   \n",
       "..                                                 ...   \n",
       "312  Navigate to the UI Path articulated in the Rem...   \n",
       "313  Navigate to the UI Path articulated in the Rem...   \n",
       "314  Navigate to the UI Path articulated in the Rem...   \n",
       "315  Navigate to the UI Path articulated in the Rem...   \n",
       "316  Navigate to the UI Path articulated in the Rem...   \n",
       "\n",
       "                                 Config implementación  \\\n",
       "0    Computer Configuration\\Policies\\Windows Settin...   \n",
       "1    Computer Configuration\\Policies\\Windows Settin...   \n",
       "2    Computer Configuration\\Policies\\Windows Settin...   \n",
       "3    Computer Configuration\\Policies\\Windows Settin...   \n",
       "4    Computer Configuration\\Policies\\Windows Settin...   \n",
       "..                                                 ...   \n",
       "312  User Configuration\\Policies\\Administrative Tem...   \n",
       "313  User Configuration\\Policies\\Administrative Tem...   \n",
       "314  User Configuration\\Policies\\Administrative Tem...   \n",
       "315  User Configuration\\Policies\\Administrative Tem...   \n",
       "316  User Configuration\\Policies\\Administrative Tem...   \n",
       "\n",
       "                                   Config verificación  \n",
       "0                                                       \n",
       "1                                                       \n",
       "2                                                       \n",
       "3                                                       \n",
       "4                                                       \n",
       "..                                                 ...  \n",
       "312  HKEY_USERS\\[USER \\nSID]\\Software\\Microsoft\\Win...  \n",
       "313  HKEY_USERS\\[USER \\nSID]\\Software\\Microsoft\\Win...  \n",
       "314  HKEY_USERS\\[USER \\nSID]\\Software\\Microsoft\\Win...  \n",
       "315  HKEY_USERS\\[USER \\nSID]\\Software\\Policies\\Micr...  \n",
       "316  HKEY_USERS\\[USER \\nSID]\\Software\\Policies\\Micr...  \n",
       "\n",
       "[317 rows x 8 columns]"
      ]
     },
     "execution_count": 29,
     "metadata": {},
     "output_type": "execute_result"
    }
   ],
   "source": [
    "DF_final"
   ]
  },
  {
   "cell_type": "code",
   "execution_count": 30,
   "metadata": {},
   "outputs": [],
   "source": [
    "DF_final.replace('\\n','', regex=True, inplace=True)"
   ]
  },
  {
   "cell_type": "code",
   "execution_count": 97,
   "metadata": {},
   "outputs": [],
   "source": [
    "DF_final.to_excel('../../output/Windows/clean/'+FILE+'_clean'+'.xlsx', index=False)"
   ]
  },
  {
   "cell_type": "markdown",
   "metadata": {},
   "source": []
  }
 ],
 "metadata": {
  "kernelspec": {
   "display_name": ".venv",
   "language": "python",
   "name": "python3"
  },
  "language_info": {
   "codemirror_mode": {
    "name": "ipython",
    "version": 3
   },
   "file_extension": ".py",
   "mimetype": "text/x-python",
   "name": "python",
   "nbconvert_exporter": "python",
   "pygments_lexer": "ipython3",
   "version": "3.11.4"
  }
 },
 "nbformat": 4,
 "nbformat_minor": 2
}
